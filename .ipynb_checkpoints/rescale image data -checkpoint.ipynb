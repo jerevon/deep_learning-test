{
 "cells": [
  {
   "cell_type": "code",
   "execution_count": 1,
   "metadata": {},
   "outputs": [],
   "source": [
    "#  THIS PROGRAM CAN BE USED TO RENAME IMAGE FILE, RESIZE AND SAVE IMAGE IN ONE SPECIFIC FOLDER\n",
    "\n",
    "import glob, os\n",
    "\n",
    "\n",
    "# PATH = 'F:\\DeeplearningTest\\data\\IMG'\n",
    "PATH = 'E:/PHD_Image_2017/weedDetectionPhD/dataset'\n",
    "OUTPUT = 'C:/Users/junfeng/PycharmProjects/WeedDetectionPHD/dataset'\n",
    "\n",
    "##################################################################\n",
    "                                                           \n",
    "\n",
    "## the file name will be turned to 'classname + index +.jpg'   ##\n",
    "\n",
    "#################################################################\n",
    "\n",
    "for root, dirs, files in os.walk(PATH):\n",
    "    \n",
    "    for subfold in dirs:\n",
    "        traindir = os.path.join(PATH, subfold) # get the classname behind PATH directory\n",
    "        traindirFiles = os.listdir(traindir) # get all the files in one this class\n",
    "        i = 1 # start point of file name in this class\n",
    "        for file in traindirFiles: # iterative files in one class\n",
    "            try:\n",
    "                os.rename(os.path.join(traindir, file), os.path.join(traindir, subfold +'.'+str(i)+'.jpg'))\n",
    "                i +=1 # rename next file  \n",
    "            except:FileExistsError  # to ensure programe runs no matter file exist error\n",
    "\n"
   ]
  },
  {
   "cell_type": "code",
   "execution_count": null,
   "metadata": {},
   "outputs": [],
   "source": [
    "import numpy as np\n",
    "import cv2 \n",
    "from PIL import Image \n",
    "import scipy \n",
    "from scipy import ndimage\n",
    "from matplotlib import pyplot as plt\n",
    "%matplotlib inline\n",
    "# path = 'F:\\\\DeeplearningTest - Copy\\\\data\\\\IMG\\\\bindweed\\\\bindweed.1.jpg'\n",
    "path = 'E:/PHD_Image_2017/weedDetectionPhD/dataset/bindweed/bindweed.1.jpg'\n",
    "image2 = np.array(ndimage.imread(path))\n",
    "image3 = cv2.resize(image2, (256,256))\n",
    "plt.figure()\n",
    "plt.imshow(image3)\n",
    "    "
   ]
  },
  {
   "cell_type": "code",
   "execution_count": null,
   "metadata": {},
   "outputs": [],
   "source": [
    "import scipy.misc\n",
    "data_list = []\n",
    "classfold = os.listdir(PATH)\n",
    "\n",
    "for fold in classfold:\n",
    "    print('loading data + {}\\n'.format(fold))\n",
    "    i = 0\n",
    "    fullClassfold = os.path.join(PATH,fold)\n",
    "    files = os.listdir(fullClassfold)\n",
    "    for file in files:\n",
    "        fullfilefold = os.path.join(fullClassfold,file) # the full fold of image \n",
    "        img = ndimage.imread(fullfilefold)\n",
    "        i += 1\n",
    "        imgResized = scipy.misc.imresize(img, (256,256))\n",
    "        scipy.misc.imsave(fullfilefold,imgResized)\n",
    "#         imgResized = cv2.resize(img,(256,256)) # can change its dimension based on your own requirements \n",
    "#         cv2.imwrite(fullfilefold,imgResized) !!!using this code, the color of the saved image has changed !!!! \n",
    "        # append image data to the datalist\n",
    "        data_list.append(imgResized)\n",
    "    print('---{}-{} images were found in total--- \\n'.format(i, fold))\n",
    "          "
   ]
  }
 ],
 "metadata": {
  "kernelspec": {
   "display_name": "Python 3",
   "language": "python",
   "name": "python3"
  },
  "language_info": {
   "codemirror_mode": {
    "name": "ipython",
    "version": 3
   },
   "file_extension": ".py",
   "mimetype": "text/x-python",
   "name": "python",
   "nbconvert_exporter": "python",
   "pygments_lexer": "ipython3",
   "version": "3.5.4"
  }
 },
 "nbformat": 4,
 "nbformat_minor": 2
}
